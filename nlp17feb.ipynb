{
 "cells": [
  {
   "cell_type": "code",
   "execution_count": 13,
   "id": "6e09fe77",
   "metadata": {},
   "outputs": [
    {
     "data": {
      "text/plain": [
       "CountVectorizer(binary=True)"
      ]
     },
     "execution_count": 13,
     "metadata": {},
     "output_type": "execute_result"
    }
   ],
   "source": [
    "from sklearn.feature_extraction.text import CountVectorizer\n",
    "vect = CountVectorizer(binary=True)\n",
    "vect"
   ]
  },
  {
   "cell_type": "code",
   "execution_count": 15,
   "id": "be4e2b98",
   "metadata": {},
   "outputs": [],
   "source": [
    "corpus = [\"A quick brown fox jumps over a lazy dog\", \"Levi Lentz packed my bag with six quarts of juice\", \n",
    "          \"Jacky can now give six big tips from the old quiz\"]"
   ]
  },
  {
   "cell_type": "code",
   "execution_count": 16,
   "id": "d68c0462",
   "metadata": {},
   "outputs": [
    {
     "data": {
      "text/plain": [
       "<3x27 sparse matrix of type '<class 'numpy.int64'>'\n",
       "\twith 28 stored elements in Compressed Sparse Row format>"
      ]
     },
     "execution_count": 16,
     "metadata": {},
     "output_type": "execute_result"
    }
   ],
   "source": [
    "vect.fit_transform(corpus)"
   ]
  },
  {
   "cell_type": "code",
   "execution_count": 17,
   "id": "fa71c71e",
   "metadata": {},
   "outputs": [],
   "source": [
    "vocab = vect.vocabulary_"
   ]
  },
  {
   "cell_type": "code",
   "execution_count": 18,
   "id": "cbe044eb",
   "metadata": {},
   "outputs": [
    {
     "data": {
      "text/plain": [
       "{'quick': 21,\n",
       " 'brown': 2,\n",
       " 'fox': 5,\n",
       " 'jumps': 10,\n",
       " 'over': 18,\n",
       " 'lazy': 11,\n",
       " 'dog': 4,\n",
       " 'levi': 13,\n",
       " 'lentz': 12,\n",
       " 'packed': 19,\n",
       " 'my': 14,\n",
       " 'bag': 0,\n",
       " 'with': 26,\n",
       " 'six': 23,\n",
       " 'quarts': 20,\n",
       " 'of': 16,\n",
       " 'juice': 9,\n",
       " 'jacky': 8,\n",
       " 'can': 3,\n",
       " 'now': 15,\n",
       " 'give': 7,\n",
       " 'big': 1,\n",
       " 'tips': 25,\n",
       " 'from': 6,\n",
       " 'the': 24,\n",
       " 'old': 17,\n",
       " 'quiz': 22}"
      ]
     },
     "execution_count": 18,
     "metadata": {},
     "output_type": "execute_result"
    }
   ],
   "source": [
    "vocab"
   ]
  },
  {
   "cell_type": "code",
   "execution_count": 19,
   "id": "74062518",
   "metadata": {},
   "outputs": [
    {
     "name": "stdout",
     "output_type": "stream",
     "text": [
      "bag: 0\n",
      "big: 1\n",
      "brown: 2\n",
      "can: 3\n",
      "dog: 4\n",
      "fox: 5\n",
      "from: 6\n",
      "give: 7\n",
      "jacky: 8\n",
      "juice: 9\n",
      "jumps: 10\n",
      "lazy: 11\n",
      "lentz: 12\n",
      "levi: 13\n",
      "my: 14\n",
      "now: 15\n",
      "of: 16\n",
      "old: 17\n",
      "over: 18\n",
      "packed: 19\n",
      "quarts: 20\n",
      "quick: 21\n",
      "quiz: 22\n",
      "six: 23\n",
      "the: 24\n",
      "tips: 25\n",
      "with: 26\n"
     ]
    }
   ],
   "source": [
    "for key in sorted(vocab.keys()):\n",
    "    print(\"{}: {}\".format(key, vocab[key]))"
   ]
  },
  {
   "cell_type": "code",
   "execution_count": 20,
   "id": "4da41cdc",
   "metadata": {},
   "outputs": [
    {
     "data": {
      "text/plain": [
       "array([[0, 0, 0, 0, 0, 0, 0, 0, 1, 1, 1, 0, 1, 1, 0, 0, 1, 0, 1, 1, 1, 0,\n",
       "        0, 0, 0, 0, 0]], dtype=int64)"
      ]
     },
     "execution_count": 20,
     "metadata": {},
     "output_type": "execute_result"
    }
   ],
   "source": [
    "vect.transform([\"Levi Lentz jumps over three quarts of juice packed by Jacky\"]).toarray()"
   ]
  },
  {
   "cell_type": "code",
   "execution_count": 34,
   "id": "0411f6af",
   "metadata": {},
   "outputs": [],
   "source": [
    "from sklearn.metrics.pairwise import cosine_similarity\n",
    "similarity = cosine_similarity(vect.transform([\"Levi Lentz says hi to Jacky\"]).toarray(), vect.transform([\"A brown fox packed three quarts of juice\"]).toarray())"
   ]
  },
  {
   "cell_type": "code",
   "execution_count": 35,
   "id": "70f0b0ae",
   "metadata": {},
   "outputs": [
    {
     "name": "stdout",
     "output_type": "stream",
     "text": [
      "[[0.]]\n"
     ]
    }
   ],
   "source": [
    "print(similarity)"
   ]
  },
  {
   "cell_type": "code",
   "execution_count": 36,
   "id": "8eded97e",
   "metadata": {},
   "outputs": [],
   "source": [
    "from sklearn.feature_extraction.text import TfidfVectorizer\n",
    "vect = TfidfVectorizer(binary=True)"
   ]
  },
  {
   "cell_type": "code",
   "execution_count": null,
   "id": "0230c395",
   "metadata": {},
   "outputs": [],
   "source": []
  }
 ],
 "metadata": {
  "kernelspec": {
   "display_name": "Python 3 (ipykernel)",
   "language": "python",
   "name": "python3"
  },
  "language_info": {
   "codemirror_mode": {
    "name": "ipython",
    "version": 3
   },
   "file_extension": ".py",
   "mimetype": "text/x-python",
   "name": "python",
   "nbconvert_exporter": "python",
   "pygments_lexer": "ipython3",
   "version": "3.9.13"
  }
 },
 "nbformat": 4,
 "nbformat_minor": 5
}
